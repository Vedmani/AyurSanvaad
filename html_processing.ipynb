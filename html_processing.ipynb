{
 "cells": [
  {
   "cell_type": "code",
   "execution_count": 6,
   "metadata": {},
   "outputs": [],
   "source": [
    "from src.html_processing import (\n",
    "    clean_html,\n",
    "    convert_ul_to_p,\n",
    "    delete_empty_tags_regex,\n",
    "    process_html_table,\n",
    "    replace_newlines_in_soup,\n",
    "    replace_spaces_in_soup,\n",
    ")"
   ]
  },
  {
   "cell_type": "code",
   "execution_count": 7,
   "metadata": {},
   "outputs": [],
   "source": [
    "soup = clean_html(\"data/processed_data/Articles/Chikitsaa/Sampraapti_Mana.htm\")"
   ]
  },
  {
   "cell_type": "code",
   "execution_count": 8,
   "metadata": {},
   "outputs": [
    {
     "name": "stdout",
     "output_type": "stream",
     "text": [
      "<html>\n",
      " <body>\n",
      "  <div>\n",
      "   <p>\n",
      "    Mana Chikitsaa\n",
      "   </p>\n",
      "   <p>\n",
      "    Reference:\n",
      "   </p>\n",
      "   <p>\n",
      "    C.Su.11, Sha.1, A.H.Su.1\n",
      "   </p>\n",
      "   <p>\n",
      "    Introduction:\n",
      "   </p>\n",
      "   <p>\n",
      "    Mana is known by psych or mind in the contemporary sciences. Ayurveda has mentioned the psycho-somatic nature of disease. A number of factors in the present era affect the functions of mind causing the unnecessary deviation in the functional attributes of mind showing different signs and symptoms. This results in either psychological disorder or psychosomatic disease. Many of the times these signs and symptoms remain in dormant phase and suddenly even with minute stimulus results in hazardous disease. Some of the effects on Mana could be stages in pathogenesis or Hetu for some diseases. (e.g. Bhaya for Bhayaja Atisaara )\n",
      "   </p>\n",
      "   <p>\n",
      "    Saamanya Chikitsaa :\n",
      "   </p>\n",
      "   <p>\n",
      "    Such diseases are covered under disorders like Unmaada , Apasmaara, Atatvaabhinivesha , Graha Roga etc. Dhi , Dhairya and Aatma Vidnyaana are remedies for psychological disorders. It includes proper reasoning and intellect, decision process and knowledge about self. Charaka has described following treatment for Mana .\n",
      "   </p>\n",
      "   <p>\n",
      "    Dnyaana (knowledge of supreme spirit or self )\n",
      "   </p>\n",
      "   <p>\n",
      "    Vidnyaana (philosophical knowlege)\n",
      "   </p>\n",
      "   <p>\n",
      "    Dhyaana ( meditation )\n",
      "   </p>\n",
      "   <p>\n",
      "    Smriti (memory)\n",
      "   </p>\n",
      "   <p>\n",
      "    Samaadhi (control of mind by freeing from all objects of senses )\n",
      "   </p>\n",
      "   <p>\n",
      "    All these aspects are grouped in the term Satvaavajaya , which means control of mind by giving up unwholesome contact to objects of senses.\n",
      "   </p>\n",
      "   <p>\n",
      "    Treatment of psychological diseases should be given considering Hetu , relation to other factors as Dosha , Dhaatu, Indriya, Vyaadhi Svabhaava, Vyaadhi Avasthaa etc. Some of the principles are highlighted as examples.\n",
      "   </p>\n",
      "   <p>\n",
      "    Some diseases should be treated considering causative factors ( Hetu Vipareeta Chikitsaa ). For example, Bhayaja Atisaara should be treated by Aashvaasana , Harshana and Mana Prasaadana along with other treatment.\n",
      "   </p>\n",
      "   <p>\n",
      "    Some diseases require immediate counselling ( Aashvaasana ) to boost morale of patient otherwise depressed attitude ( Vishaada ) can lead to further aggravation. Hence Aashvaasana is indicated in Shankaa Visha, Moorchchhaa, Unmaada, Hridroga .\n",
      "   </p>\n",
      "   <p>\n",
      "    Similarly Manah Prasaadana, Harshana etc treatment is required in diseases like Aruchi, Madaatyaya, Unmaada etc.\n",
      "   </p>\n",
      "   <p>\n",
      "    Search Anveshaka:\n",
      "   </p>\n",
      "   <p>\n",
      "    Chikitsaa guidelines for specific Nidaana :\n",
      "   </p>\n",
      "   <text>\n",
      "    &lt;csv_start&gt;\n",
      "Manas Related Nidaana,\"Manas Related Chikitsaa (Search in Kalpa, Dravya, Aahaara, Vihaara, Chikitsaa karma )\"\n",
      "\"Nashta Manas, Chitta Naasha, Nashta Manas,\",\"Harshana, Mana Prasannatva, Sattvaavajaya, Mana Tushtikara\"\n",
      "Mana Avasaada / Mana Saada,\"Mana Hlaadana, Mana Prasannatva, Sattvaavajaya, Mana Tushtikara, Mana Saadahara\"\n",
      "Mana Vibhrama / Mana Vibhrama / Mana Bhramana / Mana Samudbhrama / Vibhraanta Manas,\"Sattvaavajaya, Mana Vibhramshahara, Mana Vibhramahara, Mana Vikritatvahara\"\n",
      "Mana Abhighaata / Mana Upaghaata / Mana Upahatatva / Mana Vihata / Mana Hanana / Mana Hatatva,\"Mana Hlaadana, Mana Prasannatva, Mana Kshobhahara, Mana Vyaakulatvahara,\"\n",
      "Mana Moha / Mana Pramoha,\"Mana Tushtikara, Mana Prasaadana , Mana Mohahara, Mana Pramohahara, Mana Doshahara\"\n",
      "Mana Taapa / Mana Taptatva,\"Mana Prasannatva, Mana Tushtikara, Mana hlaadana, Mana Taapahara\"\n",
      "&lt;csv_end&gt;\n",
      "   </text>\n",
      "   <p>\n",
      "    Search Chikitsaa for Satvaavajaya\n",
      "   </p>\n",
      "   <p>\n",
      "    Aashvaasana\n",
      "   </p>\n",
      "   <p>\n",
      "    Chittanirvaana\n",
      "   </p>\n",
      "   <p>\n",
      "    Dhairya Smriti Dnyaana\n",
      "   </p>\n",
      "   <p>\n",
      "    Geeta Shravana\n",
      "   </p>\n",
      "   <p>\n",
      "    Harshana\n",
      "   </p>\n",
      "   <p>\n",
      "    Hitaahitadnyaana\n",
      "   </p>\n",
      "   <p>\n",
      "    Manah Saantvana\n",
      "   </p>\n",
      "   <p>\n",
      "    Mano Nivritti\n",
      "   </p>\n",
      "   <p>\n",
      "    Sadaachaara\n",
      "   </p>\n",
      "   <p>\n",
      "    Sadvaakya\n",
      "   </p>\n",
      "   <p>\n",
      "    Samaadhi\n",
      "   </p>\n",
      "   <p>\n",
      "    Upadesha\n",
      "   </p>\n",
      "   <p>\n",
      "    Viveka\n",
      "   </p>\n",
      "   <p>\n",
      "    Vrataacharana\n",
      "   </p>\n",
      "  </div>\n",
      " </body>\n",
      "</html>\n",
      "\n"
     ]
    }
   ],
   "source": [
    "soup = replace_newlines_in_soup(soup)\n",
    "soup = convert_ul_to_p(soup)\n",
    "soup = delete_empty_tags_regex(soup)\n",
    "soup = replace_spaces_in_soup(soup)\n",
    "soup = process_html_table(soup, \"csv\")\n",
    "soup = replace_spaces_in_soup(soup)\n"
   ]
  },
  {
   "cell_type": "code",
   "execution_count": 9,
   "metadata": {},
   "outputs": [
    {
     "name": "stdout",
     "output_type": "stream",
     "text": [
      "\n",
      "<csv_start>\n",
      "Manas Related Nidaana,\"Manas Related Chikitsaa (Search in Kalpa, Dravya, Aahaara, Vihaara, Chikitsaa karma )\"\n",
      "\"Nashta Manas, Chitta Naasha, Nashta Manas,\",\"Harshana, Mana Prasannatva, Sattvaavajaya, Mana Tushtikara\"\n",
      "Mana Avasaada / Mana Saada,\"Mana Hlaadana, Mana Prasannatva, Sattvaavajaya, Mana Tushtikara, Mana Saadahara\"\n",
      "Mana Vibhrama / Mana Vibhrama / Mana Bhramana / Mana Samudbhrama / Vibhraanta Manas,\"Sattvaavajaya, Mana Vibhramshahara, Mana Vibhramahara, Mana Vikritatvahara\"\n",
      "Mana Abhighaata / Mana Upaghaata / Mana Upahatatva / Mana Vihata / Mana Hanana / Mana Hatatva,\"Mana Hlaadana, Mana Prasannatva, Mana Kshobhahara, Mana Vyaakulatvahara,\"\n",
      "Mana Moha / Mana Pramoha,\"Mana Tushtikara, Mana Prasaadana , Mana Mohahara, Mana Pramohahara, Mana Doshahara\"\n",
      "Mana Taapa / Mana Taptatva,\"Mana Prasannatva, Mana Tushtikara, Mana hlaadana, Mana Taapahara\"\n",
      "<csv_end>\n",
      "\n"
     ]
    }
   ],
   "source": [
    "table = soup.find(\"text\")\n",
    "print(table.text)"
   ]
  },
  {
   "cell_type": "code",
   "execution_count": 12,
   "metadata": {},
   "outputs": [
    {
     "name": "stdout",
     "output_type": "stream",
     "text": [
      "'    Mana Chikitsaa   Reference:   C.Su.11, Sha.1, A.H.Su.1   Introduction:   Mana is known by psych or mind in the contemporary sciences. Ayurveda has mentioned the psycho-somatic nature of disease. A number of factors in the present era affect the functions of mind causing the unnecessary deviation in the functional attributes of mind showing different signs and symptoms. This results in either psychological disorder or psychosomatic disease. Many of the times these signs and symptoms remain in dormant phase and suddenly even with minute stimulus results in hazardous disease. Some of the effects on Mana could be stages in pathogenesis or Hetu for some diseases. (e.g. Bhaya for Bhayaja Atisaara )   Saamanya Chikitsaa :   Such diseases are covered under disorders like Unmaada , Apasmaara, Atatvaabhinivesha , Graha Roga etc. Dhi , Dhairya and Aatma Vidnyaana are remedies for psychological disorders. It includes proper reasoning and intellect, decision process and knowledge about self. Charaka has described following treatment for Mana .   Dnyaana (knowledge of supreme spirit or self )   Vidnyaana (philosophical knowlege)   Dhyaana ( meditation )   Smriti (memory)   Samaadhi (control of mind by freeing from all objects of senses )   All these aspects are grouped in the term Satvaavajaya , which means control of mind by giving up unwholesome contact to objects of senses.   Treatment of psychological diseases should be given considering Hetu , relation to other factors as Dosha , Dhaatu, Indriya, Vyaadhi Svabhaava, Vyaadhi Avasthaa etc. Some of the principles are highlighted as examples.   Some diseases should be treated considering causative factors ( Hetu Vipareeta Chikitsaa ). For example, Bhayaja Atisaara should be treated by Aashvaasana , Harshana and Mana Prasaadana along with other treatment.   Some diseases require immediate counselling ( Aashvaasana ) to boost morale of patient otherwise depressed attitude ( Vishaada ) can lead to further aggravation. Hence Aashvaasana is indicated in Shankaa Visha, Moorchchhaa, Unmaada, Hridroga .   Similarly Manah Prasaadana, Harshana etc treatment is required in diseases like Aruchi, Madaatyaya, Unmaada etc.   Search Anveshaka:   Chikitsaa guidelines for specific Nidaana :  \\n<csv_start>\\nManas Related Nidaana,\"Manas Related Chikitsaa (Search in Kalpa, Dravya, Aahaara, Vihaara, Chikitsaa karma )\"\\n\"Nashta Manas, Chitta Naasha, Nashta Manas,\",\"Harshana, Mana Prasannatva, Sattvaavajaya, Mana Tushtikara\"\\nMana Avasaada / Mana Saada,\"Mana Hlaadana, Mana Prasannatva, Sattvaavajaya, Mana Tushtikara, Mana Saadahara\"\\nMana Vibhrama / Mana Vibhrama / Mana Bhramana / Mana Samudbhrama / Vibhraanta Manas,\"Sattvaavajaya, Mana Vibhramshahara, Mana Vibhramahara, Mana Vikritatvahara\"\\nMana Abhighaata / Mana Upaghaata / Mana Upahatatva / Mana Vihata / Mana Hanana / Mana Hatatva,\"Mana Hlaadana, Mana Prasannatva, Mana Kshobhahara, Mana Vyaakulatvahara,\"\\nMana Moha / Mana Pramoha,\"Mana Tushtikara, Mana Prasaadana , Mana Mohahara, Mana Pramohahara, Mana Doshahara\"\\nMana Taapa / Mana Taptatva,\"Mana Prasannatva, Mana Tushtikara, Mana hlaadana, Mana Taapahara\"\\n<csv_end>\\n  Search Chikitsaa for Satvaavajaya   Aashvaasana   Chittanirvaana   Dhairya Smriti Dnyaana   Geeta Shravana   Harshana   Hitaahitadnyaana   Manah Saantvana   Mano Nivritti   Sadaachaara   Sadvaakya   Samaadhi   Upadesha   Viveka   Vrataacharana     '\n"
     ]
    }
   ],
   "source": [
    "print(repr(soup.get_text()))"
   ]
  },
  {
   "cell_type": "code",
   "execution_count": null,
   "metadata": {},
   "outputs": [],
   "source": []
  }
 ],
 "metadata": {
  "kernelspec": {
   "display_name": "rag",
   "language": "python",
   "name": "python3"
  },
  "language_info": {
   "codemirror_mode": {
    "name": "ipython",
    "version": 3
   },
   "file_extension": ".py",
   "mimetype": "text/x-python",
   "name": "python",
   "nbconvert_exporter": "python",
   "pygments_lexer": "ipython3",
   "version": "3.11.7"
  }
 },
 "nbformat": 4,
 "nbformat_minor": 2
}
