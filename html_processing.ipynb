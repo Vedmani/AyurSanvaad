{
 "cells": [
  {
   "cell_type": "code",
   "execution_count": 1,
   "metadata": {},
   "outputs": [],
   "source": [
    "from src.html_processing import (\n",
    "    clean_html,\n",
    "    convert_ul_to_p,\n",
    "    delete_empty_tags_regex,\n",
    "    process_html_table,\n",
    "    replace_newlines_in_soup,\n",
    "    replace_spaces_in_soup,\n",
    ")"
   ]
  },
  {
   "cell_type": "code",
   "execution_count": 2,
   "metadata": {},
   "outputs": [],
   "source": [
    "soup = clean_html(\"/home/dai/35/AyurSanvaad/data/text_data/Articles/Chikitsaa/Aamadosha.txt\")"
   ]
  },
  {
   "cell_type": "code",
   "execution_count": 3,
   "metadata": {},
   "outputs": [],
   "source": [
    "soup = replace_newlines_in_soup(soup)\n",
    "soup = convert_ul_to_p(soup)\n",
    "soup = delete_empty_tags_regex(soup)\n",
    "soup = replace_spaces_in_soup(soup)\n",
    "soup = process_html_table(soup, \"csv\")\n",
    "soup = replace_spaces_in_soup(soup)\n"
   ]
  },
  {
   "cell_type": "code",
   "execution_count": 5,
   "metadata": {},
   "outputs": [
    {
     "name": "stdout",
     "output_type": "stream",
     "text": [
      " Aamadosha Chikitsaa\n",
      "Reference: \n",
      "C.Vi.2,\n",
      "A.H.Su.13\n",
      "Introduction: \n",
      "Aama is an undigested\n",
      "food. Due to lack of Agnibala (Weak\n",
      "digestive power), the partially undigested food, which remains in Aantra, vitiated due to Dosha is called as Aama. It is the root cause for the development of majority of\n",
      "intrinsic diseases.\n",
      "Saamaanya Chikitsaa:\n",
      "Apatarpana is advisable as primary treatment.\n",
      "Apatarpana is not advisable always. Following\n",
      "regime should be administered.\n",
      "Paachana, Deepana, Snehana and\n",
      "Svedana followed by the appropriate type of Shodhana should be administered. For Deepana Paachana Sneha Dravya having Paachana property predominantly and Deepana property partially. \n",
      "Paachana results in digestion of Aama. Due to Deepana Aaama gets separated from the Dhaatu. Snehana results in Utkleshana.\n",
      "Svedana administered after this leads the movement of Aama towards the Koshtha.\n",
      "This Aama should now be eliminated out of the\n",
      "body through the nearest possible path by administering appropriate Shodhana.\n",
      "Shodhana \n",
      "For Aamaashayatha Aama -Through oral root\n",
      "For Urdhvajatrugata Aama - Through nasal\n",
      "root.\n",
      "For Pakvaashayastha Aama - Through anal\n",
      "root.\n",
      "Aavasthika Chikitsaa: \n",
      "Special Precautions (Chikitsaa\n",
      "Nishedha): \n",
      "Shodhana Chikitsaa should be avoided in following\n",
      "conditions.\n",
      "Shodhana\n",
      "Chikitsaa should be\n",
      "avoided in Saamadosha which are scattered\n",
      "all over the body (Leena) or clung to\n",
      "Dhaatu or which are not mobile (Anutklishata).\n",
      "Saamadosha which have spontaneously become mobile\n",
      "either upward or downwards should not be treated with Shamana Chikitsaa. (Saama\n",
      "Dosha which have become spontaneously mobile and being eliminated from\n",
      "oral or anus should not be arrested\n",
      "in the initial stage)\n",
      "Properties of usual diet:\n",
      "Normally diet should be\n",
      "digested properly and there should not be any symptom like Hridaya Uparodha, Kukshee\n",
      "Peedana, Paarshva Vipaatana, Udara Gaurava, or Indriya Apreenana. If diet is taken in a small amount, which does\n",
      "not fulfill hunger, then it is called Heenamaatraashana. Search Anveshaka:\n",
      "Search Kalpa, Dravya, Aahaara, Vihaara, Chikitsaa Karma \n",
      "Vyaadhi = Aamadosha\n",
      "Karma = Paachana, Deepana \n"
     ]
    }
   ],
   "source": [
    "print((soup.get_text()))"
   ]
  },
  {
   "cell_type": "code",
   "execution_count": null,
   "metadata": {},
   "outputs": [],
   "source": []
  }
 ],
 "metadata": {
  "kernelspec": {
   "display_name": "rag",
   "language": "python",
   "name": "python3"
  },
  "language_info": {
   "codemirror_mode": {
    "name": "ipython",
    "version": 3
   },
   "file_extension": ".py",
   "mimetype": "text/x-python",
   "name": "python",
   "nbconvert_exporter": "python",
   "pygments_lexer": "ipython3",
   "version": "3.11.7"
  }
 },
 "nbformat": 4,
 "nbformat_minor": 2
}
